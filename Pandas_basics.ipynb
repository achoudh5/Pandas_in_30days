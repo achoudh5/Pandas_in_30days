{
  "nbformat": 4,
  "nbformat_minor": 0,
  "metadata": {
    "colab": {
      "name": "Pandas_basics.ipynb",
      "provenance": [],
      "collapsed_sections": [
        "SXNvQRJmkg7C"
      ]
    },
    "kernelspec": {
      "name": "python3",
      "display_name": "Python 3"
    }
  },
  "cells": [
    {
      "cell_type": "markdown",
      "metadata": {
        "id": "SXNvQRJmkg7C"
      },
      "source": [
        "# Pandas DataFrames"
      ]
    },
    {
      "cell_type": "markdown",
      "metadata": {
        "id": "E8xUMesmkqck"
      },
      "source": [
        "Pandas is a high-level data manipulation tool developed by Wes McKinney. It is built on the Numpy package and its key data structure is called the DataFrame."
      ]
    },
    {
      "cell_type": "code",
      "metadata": {
        "id": "cG-b90nWkdaK"
      },
      "source": [
        "dict = {\"country\": [\"Brazil\", \"Russia\", \"India\", \"China\", \"South Africa\"],\n",
        "       \"capital\": [\"Brasilia\", \"Moscow\", \"New Dehli\", \"Beijing\", \"Pretoria\"],\n",
        "       \"area\": [8.516, 17.10, 3.286, 9.597, 1.221],\n",
        "       \"population\": [200.4, 143.5, 1252, 1357, 52.98] }\n",
        "\n",
        "import pandas as pd\n",
        "brics = pd.DataFrame(dict)\n",
        "print(brics)"
      ],
      "execution_count": null,
      "outputs": []
    },
    {
      "cell_type": "markdown",
      "metadata": {
        "id": "AhutONpJk9Wg"
      },
      "source": [
        "As you can see with the new brics DataFrame, Pandas has assigned a key for each country as the numerical values 0 through 4. If you would like to have different index values, say, the two letter country code, you can do that easily as well."
      ]
    },
    {
      "cell_type": "code",
      "metadata": {
        "id": "MaKw9Re3k-o2"
      },
      "source": [
        "# Set the index for brics\n",
        "brics.index = [\"BR\", \"RU\", \"IN\", \"CH\", \"SA\"]\n",
        "\n",
        "# Print out brics with new index values\n",
        "print(brics)"
      ],
      "execution_count": null,
      "outputs": []
    },
    {
      "cell_type": "markdown",
      "metadata": {
        "id": "3bZAHU13lOM1"
      },
      "source": [
        "Another way to create a DataFrame is by importing a csv file using Pandas. Now, the csv cars.csv is stored and can be imported using pd.read_csv:"
      ]
    },
    {
      "cell_type": "code",
      "metadata": {
        "id": "rDw5uZOolRKn"
      },
      "source": [
        "# Import pandas as pd\n",
        "import pandas as pd\n",
        "\n",
        "# Import the cars.csv data: cars\n",
        "cars = pd.read_csv('cars.csv')\n",
        "# This won't work here in colab if you have not uploaded the \"cars.csv\" file\n",
        "# Yet, I encourage you to try this out in your local system\n",
        "# Keep the py code and csv file in same directory/folder \n",
        "\n",
        "# Print out cars\n",
        "print(cars)"
      ],
      "execution_count": null,
      "outputs": []
    },
    {
      "cell_type": "markdown",
      "metadata": {
        "id": "eG_i9guilsiK"
      },
      "source": [
        "# Indexing DataFrames"
      ]
    },
    {
      "cell_type": "markdown",
      "metadata": {
        "id": "2Fb1QfWNmAfM"
      },
      "source": [
        "There are several ways to index a Pandas DataFrame. One of the easiest ways to do this is by using square bracket notation."
      ]
    },
    {
      "cell_type": "markdown",
      "metadata": {
        "id": "D4cxr9h-mBSB"
      },
      "source": [
        "In the example below, you can use square brackets to select one column of the cars DataFrame. You can either use a single bracket or a double bracket. The single bracket with output a Pandas Series, while a double bracket will output a Pandas DataFrame."
      ]
    },
    {
      "cell_type": "code",
      "metadata": {
        "id": "I7ysccdBlxif"
      },
      "source": [
        "# Import pandas and cars.csv\n",
        "import pandas as pd\n",
        "cars = pd.read_csv('cars.csv', index_col = 0)\n",
        "\n",
        "# Print out country column as Pandas Series\n",
        "print(cars['cars_per_cap'])\n",
        "\n",
        "# Print out country column as Pandas DataFrame\n",
        "print(cars[['cars_per_cap']])\n",
        "\n",
        "# Print out DataFrame with country and drives_right columns\n",
        "print(cars[['cars_per_cap', 'country']])"
      ],
      "execution_count": null,
      "outputs": []
    },
    {
      "cell_type": "markdown",
      "metadata": {
        "id": "5d_GDnGBmJuS"
      },
      "source": [
        "Square brackets can also be used to access observations (rows) from a DataFrame. For example:"
      ]
    },
    {
      "cell_type": "code",
      "metadata": {
        "id": "IA8TnQOzmMxl"
      },
      "source": [
        "# Import cars data\n",
        "import pandas as pd\n",
        "cars = pd.read_csv('cars.csv', index_col = 0)\n",
        "\n",
        "# Print out first 4 observations\n",
        "print(cars[0:4])\n",
        "\n",
        "# Print out fifth and sixth observation\n",
        "print(cars[4:6])"
      ],
      "execution_count": null,
      "outputs": []
    },
    {
      "cell_type": "markdown",
      "metadata": {
        "id": "LLNXEDGYmQCW"
      },
      "source": [
        "You can also use loc and iloc to perform just about any data selection operation. loc is label-based, which means that you have to specify rows and columns based on their row and column labels. iloc is integer index based, so you have to specify rows and columns by their integer index like you did in the previous exercise."
      ]
    },
    {
      "cell_type": "code",
      "metadata": {
        "id": "nsXeEdA0mTeC"
      },
      "source": [
        "# Import cars data\n",
        "import pandas as pd\n",
        "cars = pd.read_csv('cars.csv', index_col = 0)\n",
        "\n",
        "# Print out observation for Japan\n",
        "print(cars.iloc[2])\n",
        "\n",
        "# Print out observations for Australia and Egypt\n",
        "print(cars.loc[['AUS', 'EG']])"
      ],
      "execution_count": null,
      "outputs": []
    },
    {
      "cell_type": "markdown",
      "metadata": {
        "id": "pwZ1OpQKmav8"
      },
      "source": [
        "# Thank you for reading\n",
        "## Happy learning!"
      ]
    }
  ]
}